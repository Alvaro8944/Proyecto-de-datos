{
 "cells": [
  {
   "cell_type": "code",
   "execution_count": 1,
   "id": "a5007a1f-eaf0-4512-b4f5-fe73ef52993e",
   "metadata": {},
   "outputs": [],
   "source": [
    "import pandas as pd\n",
    "import numpy as np\n",
    "import matplotlib.pyplot as plt\n",
    "\n",
    "from sklearn.metrics import mean_absolute_error\n",
    "from sklearn.base import clone\n",
    "from sklearn.preprocessing import OneHotEncoder\n",
    "from sklearn.model_selection import train_test_split\n",
    "from sklearn.preprocessing import StandardScaler\n",
    "from sklearn.model_selection import GridSearchCV, RandomizedSearchCV\n",
    "from sklearn.model_selection import KFold, GridSearchCV\n",
    "from sklearn.ensemble import RandomForestRegressor\n",
    "from sklearn.tree import DecisionTreeRegressor"
   ]
  },
  {
   "cell_type": "markdown",
   "id": "81a71df4",
   "metadata": {},
   "source": [
    "Funciones para el entrenamiento del modelo:"
   ]
  },
  {
   "cell_type": "code",
   "execution_count": 2,
   "id": "a00e26cb",
   "metadata": {},
   "outputs": [],
   "source": [
    "def split_train_trest(X,y,stratify =None):\n",
    "    X_train, X_test, y_train, y_test = train_test_split(X, y, test_size=0.3,stratify = stratify, random_state=42)\n",
    "    return X_train, X_test, y_train, y_test \n",
    "\n",
    "def one_hot_encoder(data):\n",
    "    encoded_data = []\n",
    "    for dato in data:\n",
    "        if isinstance(dato, pd.Series):\n",
    "            dato = pd.DataFrame(dato)\n",
    "        # Seleccionar las columnas categoricas\n",
    "        categorical_columns = dato.select_dtypes(include=[\"object\"]).columns\n",
    "        encoder = OneHotEncoder(sparse = False)\n",
    "        ## Aplicar One Hot Encoding\n",
    "        encoded_columns = encoder.fit_transform(dato[categorical_columns])\n",
    "        # Recuperar el nombre de las columnas\n",
    "        new_columns = encoder.get_feature_names_out(categorical_columns)\n",
    "        # Crear un DataFrame con los datos codificados y el nombre de las columnas\n",
    "        data_encoded = pd.DataFrame(encoded_columns, columns=new_columns)\n",
    "        # Resetear index\n",
    "        dato.reset_index(drop=True, inplace=True)\n",
    "        data_encoded.reset_index(drop=True, inplace=True)\n",
    "        # Concatenar por columnas ambos DataFrames\n",
    "        dato_encoded = pd.concat([dato.drop(categorical_columns, axis=1), data_encoded], axis=1)\n",
    "        # Agregar el DataFrame codificado a la lista\n",
    "        encoded_data.append(dato_encoded)\n",
    "\n",
    "    return encoded_data[0], encoded_data[1]\n",
    "\n",
    "def standardize(X_train,X_test):\n",
    "    scaler = StandardScaler()\n",
    "    variables_estandarizar = [\"Dormitorios\",\"Superficie\",\"Num_baños\",\"Año_de_construccion\",\"Latitud\",\"Longitud\"]\n",
    "    ##variables_estandarizar = [\"Latitud\",\"Longitude\"]\n",
    "    X_train_encoded_scaled = X_train.copy()\n",
    "    X_test_encoded_scaled = X_test.copy()\n",
    "    X_train_encoded_scaled[variables_estandarizar] = scaler.fit_transform(X_train[variables_estandarizar])\n",
    "    X_test_encoded_scaled[variables_estandarizar] = scaler.transform(X_test[variables_estandarizar])\n",
    "    return X_train_encoded_scaled,X_test_encoded_scaled\n",
    "\n",
    "def calculate_error(model,X,y):\n",
    "    test_predictions = model.predict(X)\n",
    "    test_mse = mean_absolute_error(y, test_predictions)\n",
    "    return test_mse"
   ]
  },
  {
   "cell_type": "markdown",
   "id": "c9aaa1f8",
   "metadata": {},
   "source": [
    "Leemos los datos:"
   ]
  },
  {
   "cell_type": "code",
   "execution_count": 3,
   "id": "fd1af513",
   "metadata": {},
   "outputs": [
    {
     "data": {
      "text/html": [
       "<div>\n",
       "<style scoped>\n",
       "    .dataframe tbody tr th:only-of-type {\n",
       "        vertical-align: middle;\n",
       "    }\n",
       "\n",
       "    .dataframe tbody tr th {\n",
       "        vertical-align: top;\n",
       "    }\n",
       "\n",
       "    .dataframe thead th {\n",
       "        text-align: right;\n",
       "    }\n",
       "</style>\n",
       "<table border=\"1\" class=\"dataframe\">\n",
       "  <thead>\n",
       "    <tr style=\"text-align: right;\">\n",
       "      <th></th>\n",
       "      <th>Precio</th>\n",
       "      <th>Dormitorios</th>\n",
       "      <th>Superficie</th>\n",
       "      <th>Num_baños</th>\n",
       "      <th>Metro</th>\n",
       "      <th>Renfe</th>\n",
       "      <th>Tipo_de_inmueble</th>\n",
       "      <th>Año_de_construccion</th>\n",
       "      <th>Calefaccion</th>\n",
       "      <th>Etiqueta</th>\n",
       "      <th>Aire acondicionado</th>\n",
       "      <th>Ascensor</th>\n",
       "      <th>Jardin</th>\n",
       "      <th>Tipo</th>\n",
       "      <th>distrito/ciudad</th>\n",
       "      <th>Latitud</th>\n",
       "      <th>Longitud</th>\n",
       "    </tr>\n",
       "  </thead>\n",
       "  <tbody>\n",
       "    <tr>\n",
       "      <th>1</th>\n",
       "      <td>133000.0</td>\n",
       "      <td>2.0</td>\n",
       "      <td>122.0</td>\n",
       "      <td>2.0</td>\n",
       "      <td>0.0</td>\n",
       "      <td>0.0</td>\n",
       "      <td>De época</td>\n",
       "      <td>2007.0</td>\n",
       "      <td>0.0</td>\n",
       "      <td>En proceso</td>\n",
       "      <td>1.0</td>\n",
       "      <td>0.0</td>\n",
       "      <td>0.0</td>\n",
       "      <td>piso</td>\n",
       "      <td>Ciempozuelos</td>\n",
       "      <td>40.158009</td>\n",
       "      <td>-3.620551</td>\n",
       "    </tr>\n",
       "    <tr>\n",
       "      <th>2</th>\n",
       "      <td>125000.0</td>\n",
       "      <td>2.0</td>\n",
       "      <td>57.0</td>\n",
       "      <td>1.0</td>\n",
       "      <td>0.0</td>\n",
       "      <td>1.0</td>\n",
       "      <td>Señorial</td>\n",
       "      <td>1960.0</td>\n",
       "      <td>0.0</td>\n",
       "      <td>En proceso</td>\n",
       "      <td>0.0</td>\n",
       "      <td>1.0</td>\n",
       "      <td>0.0</td>\n",
       "      <td>piso</td>\n",
       "      <td>San Diego</td>\n",
       "      <td>40.388100</td>\n",
       "      <td>-3.667700</td>\n",
       "    </tr>\n",
       "    <tr>\n",
       "      <th>3</th>\n",
       "      <td>170000.0</td>\n",
       "      <td>2.0</td>\n",
       "      <td>50.0</td>\n",
       "      <td>1.0</td>\n",
       "      <td>1.0</td>\n",
       "      <td>0.0</td>\n",
       "      <td>Popular</td>\n",
       "      <td>1974.0</td>\n",
       "      <td>1.0</td>\n",
       "      <td>E</td>\n",
       "      <td>1.0</td>\n",
       "      <td>1.0</td>\n",
       "      <td>0.0</td>\n",
       "      <td>piso</td>\n",
       "      <td>vinateros</td>\n",
       "      <td>40.405197</td>\n",
       "      <td>-3.641547</td>\n",
       "    </tr>\n",
       "    <tr>\n",
       "      <th>4</th>\n",
       "      <td>370000.0</td>\n",
       "      <td>3.0</td>\n",
       "      <td>106.0</td>\n",
       "      <td>2.0</td>\n",
       "      <td>1.0</td>\n",
       "      <td>0.0</td>\n",
       "      <td>Popular</td>\n",
       "      <td>1970.0</td>\n",
       "      <td>0.0</td>\n",
       "      <td>E</td>\n",
       "      <td>0.0</td>\n",
       "      <td>1.0</td>\n",
       "      <td>0.0</td>\n",
       "      <td>piso</td>\n",
       "      <td>vinateros</td>\n",
       "      <td>40.405197</td>\n",
       "      <td>-3.641547</td>\n",
       "    </tr>\n",
       "    <tr>\n",
       "      <th>5</th>\n",
       "      <td>280000.0</td>\n",
       "      <td>4.0</td>\n",
       "      <td>171.0</td>\n",
       "      <td>2.0</td>\n",
       "      <td>0.0</td>\n",
       "      <td>0.0</td>\n",
       "      <td>Media</td>\n",
       "      <td>1986.0</td>\n",
       "      <td>1.0</td>\n",
       "      <td>En proceso</td>\n",
       "      <td>1.0</td>\n",
       "      <td>0.0</td>\n",
       "      <td>0.0</td>\n",
       "      <td>casa</td>\n",
       "      <td>Mejorada del Campo</td>\n",
       "      <td>40.397179</td>\n",
       "      <td>-3.489607</td>\n",
       "    </tr>\n",
       "    <tr>\n",
       "      <th>...</th>\n",
       "      <td>...</td>\n",
       "      <td>...</td>\n",
       "      <td>...</td>\n",
       "      <td>...</td>\n",
       "      <td>...</td>\n",
       "      <td>...</td>\n",
       "      <td>...</td>\n",
       "      <td>...</td>\n",
       "      <td>...</td>\n",
       "      <td>...</td>\n",
       "      <td>...</td>\n",
       "      <td>...</td>\n",
       "      <td>...</td>\n",
       "      <td>...</td>\n",
       "      <td>...</td>\n",
       "      <td>...</td>\n",
       "      <td>...</td>\n",
       "    </tr>\n",
       "    <tr>\n",
       "      <th>2622</th>\n",
       "      <td>279000.0</td>\n",
       "      <td>4.0</td>\n",
       "      <td>70.0</td>\n",
       "      <td>1.0</td>\n",
       "      <td>1.0</td>\n",
       "      <td>0.0</td>\n",
       "      <td>Señorial</td>\n",
       "      <td>1964.0</td>\n",
       "      <td>1.0</td>\n",
       "      <td>E</td>\n",
       "      <td>0.0</td>\n",
       "      <td>1.0</td>\n",
       "      <td>0.0</td>\n",
       "      <td>piso</td>\n",
       "      <td>Concepción</td>\n",
       "      <td>40.439500</td>\n",
       "      <td>-3.647900</td>\n",
       "    </tr>\n",
       "    <tr>\n",
       "      <th>2624</th>\n",
       "      <td>209900.0</td>\n",
       "      <td>3.0</td>\n",
       "      <td>113.0</td>\n",
       "      <td>2.0</td>\n",
       "      <td>1.0</td>\n",
       "      <td>0.0</td>\n",
       "      <td>Popular</td>\n",
       "      <td>1984.0</td>\n",
       "      <td>1.0</td>\n",
       "      <td>En proceso</td>\n",
       "      <td>0.0</td>\n",
       "      <td>1.0</td>\n",
       "      <td>0.0</td>\n",
       "      <td>piso</td>\n",
       "      <td>Portazgo</td>\n",
       "      <td>40.391437</td>\n",
       "      <td>-3.648126</td>\n",
       "    </tr>\n",
       "    <tr>\n",
       "      <th>2625</th>\n",
       "      <td>949999.0</td>\n",
       "      <td>8.0</td>\n",
       "      <td>909.0</td>\n",
       "      <td>2.0</td>\n",
       "      <td>0.0</td>\n",
       "      <td>1.0</td>\n",
       "      <td>Popular</td>\n",
       "      <td>1930.0</td>\n",
       "      <td>0.0</td>\n",
       "      <td>E</td>\n",
       "      <td>1.0</td>\n",
       "      <td>0.0</td>\n",
       "      <td>0.0</td>\n",
       "      <td>piso</td>\n",
       "      <td>Aranjuez</td>\n",
       "      <td>40.032210</td>\n",
       "      <td>-3.603960</td>\n",
       "    </tr>\n",
       "    <tr>\n",
       "      <th>2626</th>\n",
       "      <td>130000.0</td>\n",
       "      <td>2.0</td>\n",
       "      <td>69.0</td>\n",
       "      <td>1.0</td>\n",
       "      <td>1.0</td>\n",
       "      <td>0.0</td>\n",
       "      <td>Media</td>\n",
       "      <td>1958.0</td>\n",
       "      <td>1.0</td>\n",
       "      <td>En proceso</td>\n",
       "      <td>1.0</td>\n",
       "      <td>0.0</td>\n",
       "      <td>0.0</td>\n",
       "      <td>piso</td>\n",
       "      <td>Puerta Bonita</td>\n",
       "      <td>40.381328</td>\n",
       "      <td>-3.739750</td>\n",
       "    </tr>\n",
       "    <tr>\n",
       "      <th>2627</th>\n",
       "      <td>260000.0</td>\n",
       "      <td>3.0</td>\n",
       "      <td>143.0</td>\n",
       "      <td>2.0</td>\n",
       "      <td>0.0</td>\n",
       "      <td>0.0</td>\n",
       "      <td>Popular</td>\n",
       "      <td>1980.0</td>\n",
       "      <td>1.0</td>\n",
       "      <td>E</td>\n",
       "      <td>1.0</td>\n",
       "      <td>1.0</td>\n",
       "      <td>0.0</td>\n",
       "      <td>piso</td>\n",
       "      <td>Aranjuez</td>\n",
       "      <td>40.032210</td>\n",
       "      <td>-3.603960</td>\n",
       "    </tr>\n",
       "  </tbody>\n",
       "</table>\n",
       "<p>1655 rows × 17 columns</p>\n",
       "</div>"
      ],
      "text/plain": [
       "        Precio  Dormitorios  Superficie  Num_baños  Metro  Renfe  \\\n",
       "1     133000.0          2.0       122.0        2.0    0.0    0.0   \n",
       "2     125000.0          2.0        57.0        1.0    0.0    1.0   \n",
       "3     170000.0          2.0        50.0        1.0    1.0    0.0   \n",
       "4     370000.0          3.0       106.0        2.0    1.0    0.0   \n",
       "5     280000.0          4.0       171.0        2.0    0.0    0.0   \n",
       "...        ...          ...         ...        ...    ...    ...   \n",
       "2622  279000.0          4.0        70.0        1.0    1.0    0.0   \n",
       "2624  209900.0          3.0       113.0        2.0    1.0    0.0   \n",
       "2625  949999.0          8.0       909.0        2.0    0.0    1.0   \n",
       "2626  130000.0          2.0        69.0        1.0    1.0    0.0   \n",
       "2627  260000.0          3.0       143.0        2.0    0.0    0.0   \n",
       "\n",
       "     Tipo_de_inmueble  Año_de_construccion  Calefaccion    Etiqueta  \\\n",
       "1            De época               2007.0          0.0  En proceso   \n",
       "2            Señorial               1960.0          0.0  En proceso   \n",
       "3             Popular               1974.0          1.0           E   \n",
       "4             Popular               1970.0          0.0           E   \n",
       "5               Media               1986.0          1.0  En proceso   \n",
       "...               ...                  ...          ...         ...   \n",
       "2622         Señorial               1964.0          1.0           E   \n",
       "2624          Popular               1984.0          1.0  En proceso   \n",
       "2625          Popular               1930.0          0.0           E   \n",
       "2626            Media               1958.0          1.0  En proceso   \n",
       "2627          Popular               1980.0          1.0           E   \n",
       "\n",
       "      Aire acondicionado  Ascensor  Jardin  Tipo     distrito/ciudad  \\\n",
       "1                    1.0       0.0     0.0  piso        Ciempozuelos   \n",
       "2                    0.0       1.0     0.0  piso           San Diego   \n",
       "3                    1.0       1.0     0.0  piso           vinateros   \n",
       "4                    0.0       1.0     0.0  piso           vinateros   \n",
       "5                    1.0       0.0     0.0  casa  Mejorada del Campo   \n",
       "...                  ...       ...     ...   ...                 ...   \n",
       "2622                 0.0       1.0     0.0  piso          Concepción   \n",
       "2624                 0.0       1.0     0.0  piso            Portazgo   \n",
       "2625                 1.0       0.0     0.0  piso            Aranjuez   \n",
       "2626                 1.0       0.0     0.0  piso       Puerta Bonita   \n",
       "2627                 1.0       1.0     0.0  piso            Aranjuez   \n",
       "\n",
       "        Latitud  Longitud  \n",
       "1     40.158009 -3.620551  \n",
       "2     40.388100 -3.667700  \n",
       "3     40.405197 -3.641547  \n",
       "4     40.405197 -3.641547  \n",
       "5     40.397179 -3.489607  \n",
       "...         ...       ...  \n",
       "2622  40.439500 -3.647900  \n",
       "2624  40.391437 -3.648126  \n",
       "2625  40.032210 -3.603960  \n",
       "2626  40.381328 -3.739750  \n",
       "2627  40.032210 -3.603960  \n",
       "\n",
       "[1655 rows x 17 columns]"
      ]
     },
     "execution_count": 3,
     "metadata": {},
     "output_type": "execute_result"
    }
   ],
   "source": [
    "datos = pd.read_parquet(\"C:/Users/dalon/Desktop/UCM/2º/PROYECTO_DATOS_I/preprocesadoFINAL.parquet\")\n",
    "datos"
   ]
  },
  {
   "cell_type": "markdown",
   "id": "40e50f08",
   "metadata": {},
   "source": [
    "Aplicamos el filtro de casas con menos de 300m2 para mejorar el modelo como hemos explicado en la memoria."
   ]
  },
  {
   "cell_type": "code",
   "execution_count": 4,
   "id": "8e7bfaf8",
   "metadata": {},
   "outputs": [
    {
     "name": "stderr",
     "output_type": "stream",
     "text": [
      "C:\\Users\\dalon\\AppData\\Local\\Temp\\ipykernel_8548\\2090345290.py:3: SettingWithCopyWarning: \n",
      "A value is trying to be set on a copy of a slice from a DataFrame.\n",
      "Try using .loc[row_indexer,col_indexer] = value instead\n",
      "\n",
      "See the caveats in the documentation: https://pandas.pydata.org/pandas-docs/stable/user_guide/indexing.html#returning-a-view-versus-a-copy\n",
      "  datos[\"Etiqueta\"] = datos[\"Etiqueta\"].replace({\"A\":\"A+\"})\n"
     ]
    }
   ],
   "source": [
    "filtro = datos[\"Superficie\"] < 300\n",
    "datos = datos[filtro]\n",
    "datos[\"Etiqueta\"] = datos[\"Etiqueta\"].replace({\"A\":\"A+\"})"
   ]
  },
  {
   "cell_type": "markdown",
   "id": "0ba6d41b",
   "metadata": {},
   "source": [
    "Creamos el apaño con la estratificación que hemos explicado en la memoria, hacemos one hot encoding a las variables categóricas y escalamos los datos para que esten listos para la fase de entrenamiento del modelo."
   ]
  },
  {
   "cell_type": "code",
   "execution_count": 5,
   "id": "70917f1b",
   "metadata": {},
   "outputs": [],
   "source": [
    "X = datos.drop(columns = \"Precio\")\n",
    "y = datos[\"Precio\"]\n",
    "# Calcular la mediana de la superficie por localización\n",
    "mediana_precio_localizacion = datos.groupby(\"distrito/ciudad\")[\"Precio\"].median()\n",
    "\n",
    "# Crear una función para etiquetar cada fila según si la superficie es mayor o menor que la mediana local\n",
    "def etiquetar_superficie(row):\n",
    "    if row[\"Precio\"] > mediana_precio_localizacion[row[\"distrito/ciudad\"]]:\n",
    "        return \"caro_\"\n",
    "    else:\n",
    "        return \"barato\"\n",
    "\n",
    "# Aplicar la función a cada fila y crear una nueva columna llamada 'estratificacion'\n",
    "estratificacion = datos.apply(etiquetar_superficie, axis=1)\n",
    "\n",
    "# Combinar las etiquetas de los bins con las etiquetas de los distritos/ciudades\n",
    "estratificacion_final = estratificacion + '_' + datos[\"distrito/ciudad\"]\n",
    "stratify = estratificacion_final\n",
    "X_train, X_test, y_train, y_test = split_train_trest(X,y,stratify)\n",
    "X_train_encoded, X_test_encoded= one_hot_encoder([X_train, X_test])\n",
    "X_train_encoded_scaled,X_test_encoded_scaled = standardize(X_train_encoded, X_test_encoded)"
   ]
  },
  {
   "cell_type": "markdown",
   "id": "8aa47a16",
   "metadata": {},
   "source": [
    "Creamos la variable \"kfold\" para que siempre se hagan las mismas divisiones al hacer cross validation."
   ]
  },
  {
   "cell_type": "code",
   "execution_count": 6,
   "id": "97a0860b",
   "metadata": {},
   "outputs": [],
   "source": [
    "kfold = KFold(n_splits = 5, shuffle = True, random_state = 42)"
   ]
  },
  {
   "cell_type": "markdown",
   "id": "a2d06fb4",
   "metadata": {},
   "source": [
    "## DECISSION TREE REGRESSOR"
   ]
  },
  {
   "cell_type": "markdown",
   "id": "ca86ce10",
   "metadata": {},
   "source": [
    "Probamos una primera aproximación con el modelo de \"Decission Tree Regressor\" con todos los parámetros por defecto, para ver con lo que estamos trabajando."
   ]
  },
  {
   "cell_type": "code",
   "execution_count": 16,
   "id": "48be01ef",
   "metadata": {},
   "outputs": [
    {
     "data": {
      "text/plain": [
       "50672.17731958763"
      ]
     },
     "execution_count": 16,
     "metadata": {},
     "output_type": "execute_result"
    }
   ],
   "source": [
    "clr = DecisionTreeRegressor(random_state = 42)\n",
    "clr.fit(X_train_encoded_scaled, y_train)\n",
    "calculate_error(clr,X_test_encoded_scaled,y_test)"
   ]
  },
  {
   "cell_type": "markdown",
   "id": "de2879c9",
   "metadata": {},
   "source": [
    "### GridSearchCV"
   ]
  },
  {
   "cell_type": "markdown",
   "id": "1dfe5aa3",
   "metadata": {},
   "source": [
    "#### Intento 1"
   ]
  },
  {
   "cell_type": "code",
   "execution_count": 43,
   "id": "8cdcdad5",
   "metadata": {},
   "outputs": [
    {
     "data": {
      "text/plain": [
       "GridSearchCV(cv=KFold(n_splits=5, random_state=42, shuffle=True),\n",
       "             estimator=DecisionTreeRegressor(random_state=42), n_jobs=-1,\n",
       "             param_grid={'max_depth': [None, 5, 10, 25],\n",
       "                         'max_features': [None, 'sqrt', 'log2'],\n",
       "                         'min_impurity_decrease': [0.0, 0.01, 0.1],\n",
       "                         'min_samples_split': [4, 7, 10],\n",
       "                         'min_weight_fraction_leaf': [0.1, 0.2, 0.3]},\n",
       "             scoring='neg_mean_absolute_error')"
      ]
     },
     "execution_count": 43,
     "metadata": {},
     "output_type": "execute_result"
    }
   ],
   "source": [
    "param_grid = {\n",
    "    'max_depth':[None, 5, 10, 25],\n",
    "    'min_samples_split':[4,7,10],\n",
    "    'min_weight_fraction_leaf':[0.1,0.2,0.3],\n",
    "    'max_features':[None,'sqrt','log2'],\n",
    "    'min_impurity_decrease':[0.0,0.01,0.1]\n",
    "}\n",
    "dt_regressor = DecisionTreeRegressor(random_state = 42)\n",
    "grid_search = GridSearchCV(estimator=dt_regressor, param_grid=param_grid, cv=kfold, scoring='neg_mean_absolute_error', n_jobs = -1)\n",
    "grid_search.fit(X_train_encoded_scaled, y_train)"
   ]
  },
  {
   "cell_type": "code",
   "execution_count": 44,
   "id": "51eddac2",
   "metadata": {},
   "outputs": [
    {
     "name": "stdout",
     "output_type": "stream",
     "text": [
      "Mejores parámetros encontrados:\n",
      "{'max_depth': None, 'max_features': None, 'min_impurity_decrease': 0.0, 'min_samples_split': 4, 'min_weight_fraction_leaf': 0.1}\n",
      "Mejor puntuación de validación cruzada (neg_mean_squared_error): 67548.12\n"
     ]
    }
   ],
   "source": [
    "print(\"Mejores parámetros encontrados:\")\n",
    "print(grid_search.best_params_)\n",
    "print(\"Mejor puntuación de validación cruzada (neg_mean_squared_error): {:.2f}\".format(-grid_search.best_score_))"
   ]
  },
  {
   "cell_type": "code",
   "execution_count": 45,
   "id": "e22b970e",
   "metadata": {},
   "outputs": [
    {
     "data": {
      "text/plain": [
       "62844.79060177689"
      ]
     },
     "execution_count": 45,
     "metadata": {},
     "output_type": "execute_result"
    }
   ],
   "source": [
    "calculate_error(grid_search.best_estimator_, X_test_encoded_scaled, y_test)"
   ]
  },
  {
   "cell_type": "code",
   "execution_count": 46,
   "id": "237135a1",
   "metadata": {},
   "outputs": [
    {
     "data": {
      "text/plain": [
       "65417.25469534284"
      ]
     },
     "execution_count": 46,
     "metadata": {},
     "output_type": "execute_result"
    }
   ],
   "source": [
    "calculate_error(grid_search.best_estimator_, X_train_encoded_scaled, y_train)"
   ]
  },
  {
   "cell_type": "markdown",
   "id": "bc7ea755",
   "metadata": {},
   "source": [
    "Podemos ver que hay un claro subajuste, vamos a hacer otro intento."
   ]
  },
  {
   "cell_type": "markdown",
   "id": "48de491f",
   "metadata": {},
   "source": [
    "#### Intento 2"
   ]
  },
  {
   "cell_type": "code",
   "execution_count": 51,
   "id": "0ed838a8",
   "metadata": {},
   "outputs": [
    {
     "data": {
      "text/plain": [
       "GridSearchCV(cv=KFold(n_splits=5, random_state=42, shuffle=True),\n",
       "             estimator=DecisionTreeRegressor(random_state=42), n_jobs=-1,\n",
       "             param_grid={'max_depth': [None, 5, 10, 25],\n",
       "                         'max_features': [None, 'sqrt', 0.5],\n",
       "                         'min_impurity_decrease': [0.0, 0.01, 0.1],\n",
       "                         'min_samples_split': [2, 4, 7],\n",
       "                         'min_weight_fraction_leaf': [0.01, 0.05, 0.1]},\n",
       "             scoring='neg_mean_absolute_error')"
      ]
     },
     "execution_count": 51,
     "metadata": {},
     "output_type": "execute_result"
    }
   ],
   "source": [
    "param_grid = {\n",
    "    'max_depth':[None, 5, 10, 25],\n",
    "    'min_samples_split':[2,4,7],\n",
    "    'min_weight_fraction_leaf':[0.01,0.05,0.1],\n",
    "    'max_features':[None,'sqrt', 0.5],\n",
    "    'min_impurity_decrease':[0.0,0.01,0.1]\n",
    "}\n",
    "dt_regressor = DecisionTreeRegressor(random_state = 42)\n",
    "grid_search = GridSearchCV(estimator=dt_regressor, param_grid=param_grid, cv=kfold, scoring='neg_mean_absolute_error', n_jobs = -1)\n",
    "grid_search.fit(X_train_encoded_scaled, y_train)"
   ]
  },
  {
   "cell_type": "code",
   "execution_count": 52,
   "id": "76bcb6c7",
   "metadata": {},
   "outputs": [
    {
     "name": "stdout",
     "output_type": "stream",
     "text": [
      "Mejores parámetros encontrados:\n",
      "{'max_depth': None, 'max_features': None, 'min_impurity_decrease': 0.0, 'min_samples_split': 2, 'min_weight_fraction_leaf': 0.01}\n",
      "Mejor puntuación de validación cruzada (neg_mean_squared_error): 58024.81\n"
     ]
    }
   ],
   "source": [
    "print(\"Mejores parámetros encontrados:\")\n",
    "print(grid_search.best_params_)\n",
    "print(\"Mejor puntuación de validación cruzada (neg_mean_squared_error): {:.2f}\".format(-grid_search.best_score_))"
   ]
  },
  {
   "cell_type": "code",
   "execution_count": 53,
   "id": "3964dd6f",
   "metadata": {},
   "outputs": [
    {
     "data": {
      "text/plain": [
       "50692.43923977819"
      ]
     },
     "execution_count": 53,
     "metadata": {},
     "output_type": "execute_result"
    }
   ],
   "source": [
    "calculate_error(grid_search.best_estimator_, X_test_encoded_scaled, y_test)"
   ]
  },
  {
   "cell_type": "code",
   "execution_count": 54,
   "id": "6b891d2e",
   "metadata": {},
   "outputs": [
    {
     "data": {
      "text/plain": [
       "43791.636192424274"
      ]
     },
     "execution_count": 54,
     "metadata": {},
     "output_type": "execute_result"
    }
   ],
   "source": [
    "calculate_error(grid_search.best_estimator_, X_train_encoded_scaled, y_train)"
   ]
  },
  {
   "cell_type": "code",
   "execution_count": 76,
   "id": "0fd03618",
   "metadata": {},
   "outputs": [
    {
     "data": {
      "text/plain": [
       "DecisionTreeRegressor(min_weight_fraction_leaf=0.01, random_state=42)"
      ]
     },
     "execution_count": 76,
     "metadata": {},
     "output_type": "execute_result"
    }
   ],
   "source": [
    "dtr_best_grid = DecisionTreeRegressor(max_depth= None, max_features= None, min_impurity_decrease= 0.0, min_samples_split= 2, min_weight_fraction_leaf= 0.01, random_state = 42)\n",
    "dtr_best_grid.fit(X_train_encoded_scaled, y_train)"
   ]
  },
  {
   "cell_type": "markdown",
   "id": "6f44e41b",
   "metadata": {},
   "source": [
    "El error ha mejorado enormemente y ya no hay ni subajuste ni sobreajuste."
   ]
  },
  {
   "cell_type": "markdown",
   "id": "4664fb8e",
   "metadata": {},
   "source": [
    "### RandomizedSearchCV"
   ]
  },
  {
   "cell_type": "code",
   "execution_count": 59,
   "id": "ddc0125b",
   "metadata": {},
   "outputs": [
    {
     "name": "stderr",
     "output_type": "stream",
     "text": [
      "C:\\Users\\dalon\\anaconda3\\lib\\site-packages\\sklearn\\model_selection\\_validation.py:372: FitFailedWarning: \n",
      "1925 fits failed out of a total of 4000.\n",
      "The score on these train-test partitions for these parameters will be set to nan.\n",
      "If these failures are not expected, you can try to debug them by setting error_score='raise'.\n",
      "\n",
      "Below are more details about the failures:\n",
      "--------------------------------------------------------------------------------\n",
      "1925 fits failed with the following error:\n",
      "Traceback (most recent call last):\n",
      "  File \"C:\\Users\\dalon\\anaconda3\\lib\\site-packages\\sklearn\\model_selection\\_validation.py\", line 680, in _fit_and_score\n",
      "    estimator.fit(X_train, y_train, **fit_params)\n",
      "  File \"C:\\Users\\dalon\\anaconda3\\lib\\site-packages\\sklearn\\tree\\_classes.py\", line 1315, in fit\n",
      "    super().fit(\n",
      "  File \"C:\\Users\\dalon\\anaconda3\\lib\\site-packages\\sklearn\\tree\\_classes.py\", line 305, in fit\n",
      "    if max_depth <= 0:\n",
      "TypeError: '<=' not supported between instances of 'rv_discrete_frozen' and 'int'\n",
      "\n",
      "  warnings.warn(some_fits_failed_message, FitFailedWarning)\n",
      "C:\\Users\\dalon\\anaconda3\\lib\\site-packages\\sklearn\\model_selection\\_search.py:969: UserWarning: One or more of the test scores are non-finite: [-67554.09237755 -67554.09237755 -81585.50700243 -89431.90118019\n",
      "             nan             nan -81585.50700243             nan\n",
      "             nan             nan -67554.09237755 -89431.90118019\n",
      "             nan             nan -89431.90118019             nan\n",
      " -89431.90118019 -67554.09237755             nan             nan\n",
      " -81585.50700243             nan -67554.09237755 -89431.90118019\n",
      " -81585.50700243             nan             nan             nan\n",
      " -81585.50700243             nan             nan             nan\n",
      "             nan -81585.50700243 -67554.09237755 -67554.09237755\n",
      "             nan             nan -89431.90118019 -67554.09237755\n",
      " -67554.09237755             nan -67554.09237755 -89431.90118019\n",
      " -67554.09237755 -81585.50700243             nan             nan\n",
      "             nan             nan             nan -67554.09237755\n",
      " -89431.90118019 -67554.09237755             nan             nan\n",
      " -89431.90118019             nan -89431.90118019             nan\n",
      "             nan             nan -89431.90118019 -89431.90118019\n",
      "             nan -89431.90118019             nan -81585.50700243\n",
      " -81585.50700243             nan -81585.50700243             nan\n",
      "             nan -89431.90118019 -67554.09237755 -89431.90118019\n",
      "             nan             nan -81585.50700243             nan\n",
      "             nan -81585.50700243             nan             nan\n",
      " -67554.09237755 -89431.90118019             nan             nan\n",
      "             nan -81585.50700243 -81585.50700243             nan\n",
      " -89431.90118019 -67554.09237755             nan             nan\n",
      " -89431.90118019             nan             nan             nan\n",
      "             nan -81585.50700243 -89431.90118019             nan\n",
      " -67554.09237755             nan             nan             nan\n",
      "             nan             nan -81585.50700243 -67554.09237755\n",
      " -81585.50700243 -67554.09237755 -89431.90118019 -89431.90118019\n",
      "             nan             nan -89431.90118019             nan\n",
      "             nan             nan -67554.09237755             nan\n",
      "             nan             nan             nan -81585.50700243\n",
      "             nan -67554.09237755             nan             nan\n",
      "             nan             nan             nan             nan\n",
      " -89431.90118019 -67554.09237755 -89431.90118019 -67554.09237755\n",
      " -81585.50700243             nan -67554.09237755             nan\n",
      "             nan -67554.09237755 -67554.09237755             nan\n",
      "             nan             nan -81585.50700243 -81585.50700243\n",
      "             nan -81585.50700243 -81585.50700243             nan\n",
      " -67554.09237755             nan             nan -81585.50700243\n",
      "             nan             nan             nan -81585.50700243\n",
      "             nan -81585.50700243             nan             nan\n",
      "             nan -81585.50700243             nan             nan\n",
      " -81585.50700243             nan             nan             nan\n",
      "             nan             nan -89431.90118019             nan\n",
      "             nan -67554.09237755 -89431.90118019             nan\n",
      " -81585.50700243             nan -67554.09237755             nan\n",
      " -81585.50700243             nan -67554.09237755 -67554.09237755\n",
      "             nan             nan -81585.50700243 -67554.09237755\n",
      " -67554.09237755             nan -81585.50700243             nan\n",
      "             nan             nan             nan             nan\n",
      "             nan -81585.50700243 -81585.50700243 -81585.50700243\n",
      " -67554.09237755             nan -89431.90118019             nan\n",
      "             nan -89431.90118019 -89431.90118019 -81585.50700243\n",
      "             nan             nan             nan             nan\n",
      " -81585.50700243 -81585.50700243             nan -67554.09237755\n",
      "             nan             nan -67554.09237755 -67554.09237755\n",
      "             nan             nan -81585.50700243 -89431.90118019\n",
      "             nan -89431.90118019 -67554.09237755 -81585.50700243\n",
      " -81585.50700243             nan -89431.90118019 -67554.09237755\n",
      " -67554.09237755             nan             nan -67554.09237755\n",
      " -67554.09237755 -67554.09237755 -89431.90118019 -89431.90118019\n",
      " -81585.50700243 -81585.50700243             nan -67554.09237755\n",
      " -81585.50700243             nan             nan             nan\n",
      " -81585.50700243             nan             nan -81585.50700243\n",
      "             nan             nan -67554.09237755             nan\n",
      " -89431.90118019             nan -81585.50700243 -89431.90118019\n",
      " -67554.09237755             nan             nan -89431.90118019\n",
      " -67554.09237755             nan             nan             nan\n",
      " -81585.50700243             nan -67554.09237755 -81585.50700243\n",
      " -67554.09237755 -89431.90118019 -81585.50700243 -67554.09237755\n",
      " -89431.90118019 -81585.50700243 -89431.90118019 -81585.50700243\n",
      "             nan             nan             nan             nan\n",
      "             nan             nan -67554.09237755 -67554.09237755\n",
      " -67554.09237755             nan             nan             nan\n",
      " -81585.50700243             nan -67554.09237755 -67554.09237755\n",
      " -81585.50700243 -67554.09237755 -81585.50700243 -81585.50700243\n",
      " -67554.09237755 -81585.50700243 -89431.90118019 -89431.90118019\n",
      "             nan -67554.09237755 -67554.09237755 -67554.09237755\n",
      "             nan -67554.09237755 -81585.50700243 -67554.09237755\n",
      "             nan -81585.50700243 -89431.90118019             nan\n",
      "             nan             nan             nan             nan\n",
      " -89431.90118019 -89431.90118019 -81585.50700243 -89431.90118019\n",
      "             nan             nan             nan -89431.90118019\n",
      "             nan -89431.90118019             nan -67554.09237755\n",
      " -81585.50700243 -81585.50700243             nan             nan\n",
      " -81585.50700243 -89431.90118019 -67554.09237755 -89431.90118019\n",
      "             nan             nan -81585.50700243             nan\n",
      " -67554.09237755             nan             nan -67554.09237755\n",
      "             nan             nan             nan -81585.50700243\n",
      " -67554.09237755 -81585.50700243 -67554.09237755             nan\n",
      " -89431.90118019             nan -81585.50700243             nan\n",
      "             nan             nan             nan -89431.90118019\n",
      "             nan             nan             nan -89431.90118019\n",
      " -89431.90118019             nan -67554.09237755             nan\n",
      "             nan -67554.09237755             nan -81585.50700243\n",
      "             nan             nan             nan -81585.50700243\n",
      " -81585.50700243             nan             nan             nan\n",
      " -67554.09237755 -81585.50700243 -81585.50700243             nan\n",
      " -89431.90118019 -89431.90118019 -67554.09237755             nan\n",
      "             nan -81585.50700243 -81585.50700243             nan\n",
      " -81585.50700243 -81585.50700243 -67554.09237755             nan\n",
      " -67554.09237755 -89431.90118019             nan             nan\n",
      " -89431.90118019 -89431.90118019 -81585.50700243             nan\n",
      " -81585.50700243             nan             nan -67554.09237755\n",
      " -89431.90118019             nan -81585.50700243 -67554.09237755\n",
      "             nan -89431.90118019             nan -81585.50700243\n",
      "             nan -67554.09237755             nan -67554.09237755\n",
      " -89431.90118019             nan -67554.09237755 -81585.50700243\n",
      "             nan             nan             nan -89431.90118019\n",
      " -67554.09237755 -89431.90118019             nan             nan\n",
      " -81585.50700243 -89431.90118019             nan             nan\n",
      " -67554.09237755             nan             nan -67554.09237755\n",
      " -89431.90118019 -81585.50700243             nan -89431.90118019\n",
      " -81585.50700243 -89431.90118019             nan             nan\n",
      "             nan -67554.09237755 -89431.90118019 -81585.50700243\n",
      " -67554.09237755 -81585.50700243             nan             nan\n",
      "             nan             nan             nan -67554.09237755\n",
      "             nan             nan -89431.90118019 -89431.90118019\n",
      " -81585.50700243 -81585.50700243 -81585.50700243 -67554.09237755\n",
      " -67554.09237755             nan -67554.09237755             nan\n",
      "             nan -67554.09237755 -81585.50700243 -67554.09237755\n",
      " -89431.90118019             nan -81585.50700243 -81585.50700243\n",
      "             nan             nan             nan             nan\n",
      "             nan             nan -89431.90118019             nan\n",
      "             nan -67554.09237755 -67554.09237755             nan\n",
      " -67554.09237755 -89431.90118019             nan -89431.90118019\n",
      "             nan             nan -67554.09237755             nan\n",
      " -81585.50700243 -81585.50700243             nan             nan\n",
      " -67554.09237755 -89431.90118019 -81585.50700243 -81585.50700243\n",
      "             nan -81585.50700243 -67554.09237755 -89431.90118019\n",
      " -89431.90118019 -81585.50700243 -67554.09237755 -67554.09237755\n",
      " -81585.50700243             nan             nan             nan\n",
      " -81585.50700243 -81585.50700243             nan -67554.09237755\n",
      "             nan             nan             nan -67554.09237755\n",
      " -81585.50700243             nan -67554.09237755             nan\n",
      "             nan -81585.50700243             nan             nan\n",
      " -67554.09237755 -67554.09237755 -81585.50700243 -89431.90118019\n",
      "             nan             nan -67554.09237755 -67554.09237755\n",
      "             nan -81585.50700243 -81585.50700243 -67554.09237755\n",
      "             nan -67554.09237755             nan -89431.90118019\n",
      " -81585.50700243 -67554.09237755 -81585.50700243 -81585.50700243\n",
      "             nan             nan             nan -67554.09237755\n",
      " -81585.50700243 -89431.90118019 -67554.09237755 -89431.90118019\n",
      "             nan             nan -67554.09237755             nan\n",
      " -89431.90118019 -67554.09237755 -67554.09237755             nan\n",
      "             nan -67554.09237755 -67554.09237755             nan\n",
      " -89431.90118019             nan             nan             nan\n",
      " -67554.09237755 -89431.90118019 -67554.09237755 -89431.90118019\n",
      " -81585.50700243             nan -67554.09237755 -67554.09237755\n",
      "             nan -81585.50700243             nan             nan\n",
      "             nan             nan -81585.50700243             nan\n",
      "             nan -67554.09237755             nan -67554.09237755\n",
      " -81585.50700243 -89431.90118019 -81585.50700243 -81585.50700243\n",
      "             nan             nan -67554.09237755             nan\n",
      " -89431.90118019             nan -81585.50700243 -81585.50700243\n",
      "             nan             nan -89431.90118019             nan\n",
      " -67554.09237755             nan -81585.50700243 -81585.50700243\n",
      " -81585.50700243             nan             nan             nan\n",
      " -89431.90118019 -67554.09237755 -89431.90118019             nan\n",
      "             nan -67554.09237755 -67554.09237755 -67554.09237755\n",
      " -67554.09237755             nan -67554.09237755 -81585.50700243\n",
      "             nan             nan -81585.50700243 -89431.90118019\n",
      "             nan             nan -81585.50700243 -81585.50700243\n",
      "             nan             nan             nan             nan\n",
      " -67554.09237755             nan -89431.90118019 -81585.50700243\n",
      "             nan -89431.90118019 -67554.09237755 -67554.09237755\n",
      "             nan -67554.09237755 -89431.90118019 -67554.09237755\n",
      " -81585.50700243             nan             nan -89431.90118019\n",
      "             nan             nan             nan             nan\n",
      "             nan -67554.09237755             nan             nan\n",
      "             nan             nan -67554.09237755 -81585.50700243\n",
      " -67554.09237755 -67554.09237755 -67554.09237755 -81585.50700243\n",
      " -89431.90118019             nan -67554.09237755 -89431.90118019\n",
      " -81585.50700243             nan             nan             nan\n",
      " -67554.09237755 -81585.50700243 -81585.50700243 -67554.09237755\n",
      "             nan             nan             nan             nan\n",
      " -81585.50700243             nan -67554.09237755             nan\n",
      " -67554.09237755             nan             nan             nan\n",
      "             nan -67554.09237755             nan             nan\n",
      " -67554.09237755 -81585.50700243 -89431.90118019             nan\n",
      "             nan -67554.09237755 -67554.09237755 -89431.90118019\n",
      " -89431.90118019             nan             nan -89431.90118019\n",
      "             nan -67554.09237755             nan -67554.09237755\n",
      " -67554.09237755             nan             nan             nan\n",
      "             nan             nan             nan -67554.09237755\n",
      "             nan             nan -89431.90118019             nan\n",
      "             nan             nan -81585.50700243 -67554.09237755\n",
      "             nan             nan -81585.50700243 -67554.09237755\n",
      "             nan -67554.09237755 -81585.50700243             nan\n",
      " -89431.90118019             nan -67554.09237755             nan\n",
      " -81585.50700243             nan             nan             nan\n",
      "             nan             nan             nan -81585.50700243\n",
      " -67554.09237755             nan             nan -81585.50700243\n",
      " -81585.50700243             nan             nan             nan\n",
      " -67554.09237755 -81585.50700243             nan -67554.09237755\n",
      "             nan             nan -89431.90118019 -81585.50700243\n",
      "             nan -89431.90118019             nan -81585.50700243\n",
      "             nan -67554.09237755 -81585.50700243 -81585.50700243\n",
      " -67554.09237755 -89431.90118019 -81585.50700243             nan]\n",
      "  warnings.warn(\n"
     ]
    },
    {
     "data": {
      "text/plain": [
       "RandomizedSearchCV(cv=KFold(n_splits=5, random_state=42, shuffle=True),\n",
       "                   estimator=DecisionTreeRegressor(max_depth=6,\n",
       "                                                   random_state=42),\n",
       "                   n_iter=800,\n",
       "                   param_distributions={'max_depth': [None,\n",
       "                                                      <scipy.stats._distn_infrastructure.rv_discrete_frozen object at 0x000002016080D520>],\n",
       "                                        'max_features': [None, 'sqrt', 'log2'],\n",
       "                                        'min_impurity_decrease': [0.05835927577054006],\n",
       "                                        'min_samples_split': <scipy.stats._distn_infrastructure.rv_discrete_frozen object at 0x0000020160CA2DF0>,\n",
       "                                        'min_weight_fraction_leaf': [0.09543286400591243]},\n",
       "                   random_state=42, scoring='neg_mean_absolute_error')"
      ]
     },
     "execution_count": 59,
     "metadata": {},
     "output_type": "execute_result"
    }
   ],
   "source": [
    "param_dist = {\n",
    "    'max_depth': [None,  randint(5,40)],\n",
    "    \"min_samples_split\":  randint(2, 10),\n",
    "    'min_weight_fraction_leaf': [random.uniform(0.0, 0.2)],\n",
    "    \"max_features\": [None,'sqrt', 'log2'],\n",
    "    'min_impurity_decrease': [random.uniform(0.0, 0.1)]\n",
    "}\n",
    "dt_regressor = DecisionTreeRegressor(max_depth = 6, random_state = 42)\n",
    "random_search = RandomizedSearchCV(dt_regressor, param_distributions=param_dist, n_iter=800, cv=kfold,scoring='neg_mean_absolute_error', random_state=42)\n",
    "\n",
    "# Realizar la búsqueda de hiperparámetros en el conjunto de entrenamiento\n",
    "random_search.fit(X_train_encoded_scaled, y_train)"
   ]
  },
  {
   "cell_type": "code",
   "execution_count": 60,
   "id": "3662834d",
   "metadata": {},
   "outputs": [
    {
     "name": "stdout",
     "output_type": "stream",
     "text": [
      "Mejores parámetros encontrados:\n",
      "{'max_depth': None, 'max_features': None, 'min_impurity_decrease': 0.05835927577054006, 'min_samples_split': 8, 'min_weight_fraction_leaf': 0.09543286400591243}\n",
      "Mejor puntuación de validación cruzada (neg_mean_squared_error): 67554.09\n"
     ]
    }
   ],
   "source": [
    "print(\"Mejores parámetros encontrados:\")\n",
    "print(random_search.best_params_)\n",
    "print(\"Mejor puntuación de validación cruzada (neg_mean_squared_error): {:.2f}\".format(-random_search.best_score_))"
   ]
  },
  {
   "cell_type": "code",
   "execution_count": 61,
   "id": "c65b6479",
   "metadata": {},
   "outputs": [
    {
     "data": {
      "text/plain": [
       "62539.15950896476"
      ]
     },
     "execution_count": 61,
     "metadata": {},
     "output_type": "execute_result"
    }
   ],
   "source": [
    "calculate_error(random_search.best_estimator_, X_test_encoded_scaled, y_test)"
   ]
  },
  {
   "cell_type": "code",
   "execution_count": 62,
   "id": "fd87471b",
   "metadata": {},
   "outputs": [
    {
     "data": {
      "text/plain": [
       "65289.19021652985"
      ]
     },
     "execution_count": 62,
     "metadata": {},
     "output_type": "execute_result"
    }
   ],
   "source": [
    "calculate_error(random_search.best_estimator_, X_train_encoded_scaled, y_train)"
   ]
  },
  {
   "cell_type": "markdown",
   "id": "6a3aab49",
   "metadata": {},
   "source": [
    "---\n",
    "## RANDOM FOREST"
   ]
  },
  {
   "cell_type": "code",
   "execution_count": 20,
   "id": "02ac641c",
   "metadata": {},
   "outputs": [
    {
     "name": "stdout",
     "output_type": "stream",
     "text": [
      "38673.36310554737\n",
      "16668.074506336576\n"
     ]
    }
   ],
   "source": [
    "random_forest = RandomForestRegressor(random_state = 42)\n",
    "random_forest.fit(X_train_encoded_scaled, y_train)\n",
    "print(calculate_error(random_forest,X_test_encoded_scaled,y_test))\n",
    "print(calculate_error(random_forest,X_train_encoded_scaled,y_train))"
   ]
  },
  {
   "cell_type": "markdown",
   "id": "1335b3f0",
   "metadata": {},
   "source": [
    "### GridSearchCV"
   ]
  },
  {
   "cell_type": "markdown",
   "id": "1f2d2a34",
   "metadata": {},
   "source": [
    "#### Intento1"
   ]
  },
  {
   "cell_type": "code",
   "execution_count": 8,
   "id": "d7a9400f",
   "metadata": {},
   "outputs": [
    {
     "data": {
      "text/plain": [
       "GridSearchCV(cv=KFold(n_splits=5, random_state=42, shuffle=True),\n",
       "             estimator=RandomForestRegressor(random_state=42), n_jobs=-1,\n",
       "             param_grid={'max_depth': [None, 5, 10, 25],\n",
       "                         'max_features': [None, 'sqrt', 0.5],\n",
       "                         'min_impurity_decrease': [0.0, 0.01, 0.1],\n",
       "                         'min_samples_split': [4, 7, 10],\n",
       "                         'min_weight_fraction_leaf': [0.1, 0.2, 0.3],\n",
       "                         'n_estimators': [50, 100, 200, 300]},\n",
       "             scoring='neg_mean_absolute_error')"
      ]
     },
     "execution_count": 8,
     "metadata": {},
     "output_type": "execute_result"
    }
   ],
   "source": [
    "param_grid = {\n",
    "    'n_estimators':[50,100,200,300],\n",
    "    'max_depth':[None, 5, 10, 25],\n",
    "    'min_samples_split':[4,7,10],\n",
    "    'min_weight_fraction_leaf':[0.1,0.2,0.3],\n",
    "    'max_features':[None,'sqrt', 0.5],\n",
    "    'min_impurity_decrease':[0.0,0.01,0.1]\n",
    "}\n",
    "rf_regressor = RandomForestRegressor(random_state = 42)\n",
    "grid_search = GridSearchCV(estimator=rf_regressor, param_grid=param_grid, cv=kfold, scoring='neg_mean_absolute_error', n_jobs = -1)\n",
    "grid_search.fit(X_train_encoded_scaled, y_train)"
   ]
  },
  {
   "cell_type": "code",
   "execution_count": 9,
   "id": "0653a5a6",
   "metadata": {},
   "outputs": [
    {
     "name": "stdout",
     "output_type": "stream",
     "text": [
      "Mejores parámetros encontrados:\n",
      "{'max_depth': None, 'max_features': None, 'min_impurity_decrease': 0.0, 'min_samples_split': 4, 'min_weight_fraction_leaf': 0.1, 'n_estimators': 100}\n",
      "Mejor puntuación de validación cruzada (neg_mean_squared_error): 63414.09\n"
     ]
    }
   ],
   "source": [
    "print(\"Mejores parámetros encontrados:\")\n",
    "print(grid_search.best_params_)\n",
    "print(\"Mejor puntuación de validación cruzada (neg_mean_squared_error): {:.2f}\".format(-grid_search.best_score_))"
   ]
  },
  {
   "cell_type": "code",
   "execution_count": 10,
   "id": "d77214fd",
   "metadata": {},
   "outputs": [
    {
     "data": {
      "text/plain": [
       "59232.895869485845"
      ]
     },
     "execution_count": 10,
     "metadata": {},
     "output_type": "execute_result"
    }
   ],
   "source": [
    "calculate_error(grid_search.best_estimator_, X_test_encoded_scaled, y_test)"
   ]
  },
  {
   "cell_type": "code",
   "execution_count": 11,
   "id": "ac48d968",
   "metadata": {},
   "outputs": [
    {
     "data": {
      "text/plain": [
       "62234.915780352174"
      ]
     },
     "execution_count": 11,
     "metadata": {},
     "output_type": "execute_result"
    }
   ],
   "source": [
    "calculate_error(grid_search.best_estimator_, X_train_encoded_scaled, y_train)"
   ]
  },
  {
   "cell_type": "markdown",
   "id": "6df3ded4",
   "metadata": {},
   "source": [
    "Podemos ver que hay un claro subajuste, vamos a hacer otro intento."
   ]
  },
  {
   "cell_type": "markdown",
   "id": "19f1bb0a",
   "metadata": {},
   "source": [
    "#### Intento 2"
   ]
  },
  {
   "cell_type": "markdown",
   "id": "3933886d",
   "metadata": {},
   "source": [
    "Vamos a probar valores que permitan la construcción de árboles más complejos:"
   ]
  },
  {
   "cell_type": "code",
   "execution_count": 12,
   "id": "c1d8a0c4",
   "metadata": {},
   "outputs": [
    {
     "data": {
      "text/plain": [
       "GridSearchCV(cv=KFold(n_splits=5, random_state=42, shuffle=True),\n",
       "             estimator=RandomForestRegressor(random_state=42), n_jobs=-1,\n",
       "             param_grid={'max_depth': [None, 5, 10, 25],\n",
       "                         'max_features': [None, 'sqrt', 0.5],\n",
       "                         'min_impurity_decrease': [0.0, 0.01, 0.1],\n",
       "                         'min_samples_split': [2, 4, 7],\n",
       "                         'min_weight_fraction_leaf': [0.01, 0.05, 0.1],\n",
       "                         'n_estimators': [50, 100, 200, 300]},\n",
       "             scoring='neg_mean_absolute_error')"
      ]
     },
     "execution_count": 12,
     "metadata": {},
     "output_type": "execute_result"
    }
   ],
   "source": [
    "param_grid = {\n",
    "    'n_estimators':[50,100,200,300],\n",
    "    'max_depth':[None, 5, 10, 25],\n",
    "    'min_samples_split':[2,4,7],\n",
    "    'min_weight_fraction_leaf':[0.01,0.05,0.1],\n",
    "    'max_features':[None,'sqrt', 0.5],\n",
    "    'min_impurity_decrease':[0.0,0.01,0.1]\n",
    "}\n",
    "rf_regressor = RandomForestRegressor(random_state = 42)\n",
    "grid_search = GridSearchCV(estimator=rf_regressor, param_grid=param_grid, cv=kfold, scoring='neg_mean_absolute_error', n_jobs = -1)\n",
    "grid_search.fit(X_train_encoded_scaled, y_train)"
   ]
  },
  {
   "cell_type": "code",
   "execution_count": 13,
   "id": "1c67ea8f",
   "metadata": {},
   "outputs": [
    {
     "name": "stdout",
     "output_type": "stream",
     "text": [
      "Mejores parámetros encontrados:\n",
      "{'max_depth': None, 'max_features': None, 'min_impurity_decrease': 0.0, 'min_samples_split': 2, 'min_weight_fraction_leaf': 0.01, 'n_estimators': 100}\n",
      "Mejor puntuación de validación cruzada (neg_mean_squared_error): 49777.53\n"
     ]
    }
   ],
   "source": [
    "print(\"Mejores parámetros encontrados:\")\n",
    "print(grid_search.best_params_)\n",
    "print(\"Mejor puntuación de validación cruzada (neg_mean_squared_error): {:.2f}\".format(-grid_search.best_score_))"
   ]
  },
  {
   "cell_type": "code",
   "execution_count": 14,
   "id": "44162da3",
   "metadata": {},
   "outputs": [
    {
     "data": {
      "text/plain": [
       "43913.20550419836"
      ]
     },
     "execution_count": 14,
     "metadata": {},
     "output_type": "execute_result"
    }
   ],
   "source": [
    "calculate_error(grid_search.best_estimator_, X_test_encoded_scaled, y_test)"
   ]
  },
  {
   "cell_type": "code",
   "execution_count": 15,
   "id": "d89bc2d0",
   "metadata": {},
   "outputs": [
    {
     "data": {
      "text/plain": [
       "38764.74638784999"
      ]
     },
     "execution_count": 15,
     "metadata": {},
     "output_type": "execute_result"
    }
   ],
   "source": [
    "calculate_error(grid_search.best_estimator_, X_train_encoded_scaled, y_train)"
   ]
  },
  {
   "cell_type": "code",
   "execution_count": 78,
   "id": "91161e83",
   "metadata": {},
   "outputs": [
    {
     "data": {
      "text/plain": [
       "RandomForestRegressor(max_features=None, min_weight_fraction_leaf=0.01,\n",
       "                      random_state=42)"
      ]
     },
     "execution_count": 78,
     "metadata": {},
     "output_type": "execute_result"
    }
   ],
   "source": [
    "rf_best_grid = RandomForestRegressor(max_depth= None, max_features= None, min_impurity_decrease= 0.0, min_samples_split= 2, min_weight_fraction_leaf= 0.01, n_estimators= 100, random_state = 42)\n",
    "rf_best_grid.fit(X_train_encoded_scaled, y_train)"
   ]
  },
  {
   "cell_type": "markdown",
   "id": "a7a0c450",
   "metadata": {},
   "source": [
    "El modelo ha mejorado enormemente, pero vamos a jugar un poco más con los parámetros para ver si podemos mejorarlo un poco más:"
   ]
  },
  {
   "cell_type": "markdown",
   "id": "f617f1cc",
   "metadata": {},
   "source": [
    "#### Intento 3"
   ]
  },
  {
   "cell_type": "markdown",
   "id": "e5147653",
   "metadata": {},
   "source": [
    "Vamos a limitar los valores del grid para que cree un modelo con muchos estimadores pero con estimadores simples:"
   ]
  },
  {
   "cell_type": "code",
   "execution_count": 30,
   "id": "d8f5e247",
   "metadata": {},
   "outputs": [
    {
     "data": {
      "text/plain": [
       "GridSearchCV(cv=KFold(n_splits=5, random_state=42, shuffle=True),\n",
       "             estimator=RandomForestRegressor(random_state=42), n_jobs=-1,\n",
       "             param_grid={'max_depth': [5, 10, 20],\n",
       "                         'max_features': ['sqrt', 'log2'],\n",
       "                         'min_impurity_decrease': [0.01, 0.05, 0.1],\n",
       "                         'min_samples_split': [3, 4, 5],\n",
       "                         'min_weight_fraction_leaf': [0.01, 0.03, 0.05],\n",
       "                         'n_estimators': [100, 200, 300, 500]},\n",
       "             scoring='neg_mean_absolute_error')"
      ]
     },
     "execution_count": 30,
     "metadata": {},
     "output_type": "execute_result"
    }
   ],
   "source": [
    "param_grid = {\n",
    "    'n_estimators':[100,200,300,500],\n",
    "    'max_depth':[5,10,20],\n",
    "    'min_samples_split':[3,4,5],\n",
    "    'min_weight_fraction_leaf':[0.01,0.03,0.05],\n",
    "    'max_features':['sqrt', 'log2'],\n",
    "    'min_impurity_decrease':[0.01,0.05,0.1]\n",
    "}\n",
    "rf_regressor = RandomForestRegressor(random_state = 42)\n",
    "grid_search = GridSearchCV(estimator=rf_regressor, param_grid=param_grid, cv=kfold, scoring='neg_mean_absolute_error', n_jobs = -1)\n",
    "grid_search.fit(X_train_encoded_scaled, y_train)"
   ]
  },
  {
   "cell_type": "code",
   "execution_count": 31,
   "id": "0d1df760",
   "metadata": {},
   "outputs": [
    {
     "name": "stdout",
     "output_type": "stream",
     "text": [
      "Mejores parámetros encontrados:\n",
      "{'max_depth': 20, 'max_features': 'sqrt', 'min_impurity_decrease': 0.01, 'min_samples_split': 3, 'min_weight_fraction_leaf': 0.01, 'n_estimators': 300}\n",
      "Mejor puntuación de validación cruzada (neg_mean_squared_error): 64280.19\n"
     ]
    }
   ],
   "source": [
    "print(\"Mejores parámetros encontrados:\")\n",
    "print(grid_search.best_params_)\n",
    "print(\"Mejor puntuación de validación cruzada (neg_mean_squared_error): {:.2f}\".format(-grid_search.best_score_))"
   ]
  },
  {
   "cell_type": "code",
   "execution_count": 32,
   "id": "7cccb1bd",
   "metadata": {},
   "outputs": [
    {
     "data": {
      "text/plain": [
       "62948.636243113404"
      ]
     },
     "execution_count": 32,
     "metadata": {},
     "output_type": "execute_result"
    }
   ],
   "source": [
    "calculate_error(grid_search.best_estimator_, X_test_encoded_scaled, y_test)"
   ]
  },
  {
   "cell_type": "code",
   "execution_count": 33,
   "id": "82740916",
   "metadata": {},
   "outputs": [
    {
     "data": {
      "text/plain": [
       "60628.94664295416"
      ]
     },
     "execution_count": 33,
     "metadata": {},
     "output_type": "execute_result"
    }
   ],
   "source": [
    "calculate_error(grid_search.best_estimator_, X_train_encoded_scaled, y_train)"
   ]
  },
  {
   "cell_type": "markdown",
   "id": "71ab4640",
   "metadata": {},
   "source": [
    "No hay sobreajuste pero el rendimiento del modelo es pésimo debido a la simplicidad de los estimadores."
   ]
  },
  {
   "cell_type": "markdown",
   "id": "94208629",
   "metadata": {},
   "source": [
    "#### Intento 4"
   ]
  },
  {
   "cell_type": "markdown",
   "id": "0e8a8c07",
   "metadata": {},
   "source": [
    "Vamos a limitar los valores del grid para que cree un modelo con pocos estimadores pero con estimadores complejos:"
   ]
  },
  {
   "cell_type": "code",
   "execution_count": 26,
   "id": "6df8eea7",
   "metadata": {},
   "outputs": [
    {
     "data": {
      "text/plain": [
       "GridSearchCV(cv=KFold(n_splits=5, random_state=42, shuffle=True),\n",
       "             estimator=RandomForestRegressor(random_state=42), n_jobs=-1,\n",
       "             param_grid={'max_depth': [None, 30, 50],\n",
       "                         'max_features': [None, 'log2'],\n",
       "                         'min_impurity_decrease': [0.0, 0.001, 0.01],\n",
       "                         'min_samples_split': [2, 3, 4],\n",
       "                         'min_weight_fraction_leaf': [0.0, 0.001, 0.01],\n",
       "                         'n_estimators': [25, 50, 75]},\n",
       "             scoring='neg_mean_absolute_error')"
      ]
     },
     "execution_count": 26,
     "metadata": {},
     "output_type": "execute_result"
    }
   ],
   "source": [
    "param_grid = {\n",
    "    'n_estimators':[25,50,75],\n",
    "    'max_depth':[None, 30, 50],\n",
    "    'min_samples_split':[2,3,4],\n",
    "    'min_weight_fraction_leaf':[0.0, 0.001, 0.01],\n",
    "    'max_features':[None, 'log2'],\n",
    "    'min_impurity_decrease':[0.0,0.001,0.01]\n",
    "}\n",
    "rf_regressor = RandomForestRegressor(random_state = 42)\n",
    "grid_search = GridSearchCV(estimator=rf_regressor, param_grid=param_grid, cv=kfold, scoring='neg_mean_absolute_error', n_jobs = -1)\n",
    "grid_search.fit(X_train_encoded_scaled, y_train)"
   ]
  },
  {
   "cell_type": "code",
   "execution_count": 27,
   "id": "f7513630",
   "metadata": {},
   "outputs": [
    {
     "name": "stdout",
     "output_type": "stream",
     "text": [
      "Mejores parámetros encontrados:\n",
      "{'max_depth': 30, 'max_features': None, 'min_impurity_decrease': 0.0, 'min_samples_split': 2, 'min_weight_fraction_leaf': 0.0, 'n_estimators': 50}\n",
      "Mejor puntuación de validación cruzada (neg_mean_squared_error): 45335.65\n"
     ]
    }
   ],
   "source": [
    "print(\"Mejores parámetros encontrados:\")\n",
    "print(grid_search.best_params_)\n",
    "print(\"Mejor puntuación de validación cruzada (neg_mean_squared_error): {:.2f}\".format(-grid_search.best_score_))"
   ]
  },
  {
   "cell_type": "code",
   "execution_count": 28,
   "id": "a419a669",
   "metadata": {},
   "outputs": [
    {
     "data": {
      "text/plain": [
       "39258.438487972504"
      ]
     },
     "execution_count": 28,
     "metadata": {},
     "output_type": "execute_result"
    }
   ],
   "source": [
    "calculate_error(grid_search.best_estimator_, X_test_encoded_scaled, y_test)"
   ]
  },
  {
   "cell_type": "code",
   "execution_count": 29,
   "id": "31f3eae1",
   "metadata": {},
   "outputs": [
    {
     "data": {
      "text/plain": [
       "16865.18705570292"
      ]
     },
     "execution_count": 29,
     "metadata": {},
     "output_type": "execute_result"
    }
   ],
   "source": [
    "calculate_error(grid_search.best_estimator_, X_train_encoded_scaled, y_train)"
   ]
  },
  {
   "cell_type": "markdown",
   "id": "f91d0982",
   "metadata": {},
   "source": [
    "El error en test ha mejorado un poco, pero a costa de un error en train sospechoso de sobreajuste."
   ]
  },
  {
   "cell_type": "markdown",
   "id": "b579363a",
   "metadata": {},
   "source": [
    "### RandomizedSearchCV"
   ]
  },
  {
   "cell_type": "code",
   "execution_count": 70,
   "id": "35fc5221",
   "metadata": {},
   "outputs": [
    {
     "name": "stderr",
     "output_type": "stream",
     "text": [
      "C:\\Users\\dalon\\anaconda3\\lib\\site-packages\\sklearn\\model_selection\\_validation.py:372: FitFailedWarning: \n",
      "250 fits failed out of a total of 500.\n",
      "The score on these train-test partitions for these parameters will be set to nan.\n",
      "If these failures are not expected, you can try to debug them by setting error_score='raise'.\n",
      "\n",
      "Below are more details about the failures:\n",
      "--------------------------------------------------------------------------------\n",
      "250 fits failed with the following error:\n",
      "Traceback (most recent call last):\n",
      "  File \"C:\\Users\\dalon\\anaconda3\\lib\\site-packages\\sklearn\\model_selection\\_validation.py\", line 680, in _fit_and_score\n",
      "    estimator.fit(X_train, y_train, **fit_params)\n",
      "  File \"C:\\Users\\dalon\\anaconda3\\lib\\site-packages\\sklearn\\ensemble\\_forest.py\", line 450, in fit\n",
      "    trees = Parallel(\n",
      "  File \"C:\\Users\\dalon\\anaconda3\\lib\\site-packages\\joblib\\parallel.py\", line 1043, in __call__\n",
      "    if self.dispatch_one_batch(iterator):\n",
      "  File \"C:\\Users\\dalon\\anaconda3\\lib\\site-packages\\joblib\\parallel.py\", line 861, in dispatch_one_batch\n",
      "    self._dispatch(tasks)\n",
      "  File \"C:\\Users\\dalon\\anaconda3\\lib\\site-packages\\joblib\\parallel.py\", line 779, in _dispatch\n",
      "    job = self._backend.apply_async(batch, callback=cb)\n",
      "  File \"C:\\Users\\dalon\\anaconda3\\lib\\site-packages\\joblib\\_parallel_backends.py\", line 208, in apply_async\n",
      "    result = ImmediateResult(func)\n",
      "  File \"C:\\Users\\dalon\\anaconda3\\lib\\site-packages\\joblib\\_parallel_backends.py\", line 572, in __init__\n",
      "    self.results = batch()\n",
      "  File \"C:\\Users\\dalon\\anaconda3\\lib\\site-packages\\joblib\\parallel.py\", line 262, in __call__\n",
      "    return [func(*args, **kwargs)\n",
      "  File \"C:\\Users\\dalon\\anaconda3\\lib\\site-packages\\joblib\\parallel.py\", line 262, in <listcomp>\n",
      "    return [func(*args, **kwargs)\n",
      "  File \"C:\\Users\\dalon\\anaconda3\\lib\\site-packages\\sklearn\\utils\\fixes.py\", line 216, in __call__\n",
      "    return self.function(*args, **kwargs)\n",
      "  File \"C:\\Users\\dalon\\anaconda3\\lib\\site-packages\\sklearn\\ensemble\\_forest.py\", line 185, in _parallel_build_trees\n",
      "    tree.fit(X, y, sample_weight=curr_sample_weight, check_input=False)\n",
      "  File \"C:\\Users\\dalon\\anaconda3\\lib\\site-packages\\sklearn\\tree\\_classes.py\", line 1315, in fit\n",
      "    super().fit(\n",
      "  File \"C:\\Users\\dalon\\anaconda3\\lib\\site-packages\\sklearn\\tree\\_classes.py\", line 305, in fit\n",
      "    if max_depth <= 0:\n",
      "TypeError: '<=' not supported between instances of 'rv_discrete_frozen' and 'int'\n",
      "\n",
      "  warnings.warn(some_fits_failed_message, FitFailedWarning)\n",
      "C:\\Users\\dalon\\anaconda3\\lib\\site-packages\\sklearn\\model_selection\\_search.py:969: UserWarning: One or more of the test scores are non-finite: [-62646.12410275             nan             nan -62661.52365799\n",
      "             nan             nan             nan             nan\n",
      " -62694.35714399 -83248.96718572             nan -84020.01544323\n",
      " -62673.51301647 -91874.93664753 -84321.47981565             nan\n",
      " -83901.78141129             nan             nan -83412.95280287\n",
      "             nan             nan -91365.21506486             nan\n",
      "             nan -83283.70608332             nan             nan\n",
      "             nan             nan -62676.97310947 -62596.93458478\n",
      "             nan -92186.28938909 -62675.7956377              nan\n",
      " -84656.92256474 -91329.39509417 -91732.78444108             nan\n",
      " -62697.43376852 -62687.83275637 -91882.67643785 -62793.90917729\n",
      "             nan -91263.63926565 -62606.85426467             nan\n",
      " -92387.43617232             nan -92371.77007471             nan\n",
      " -62752.69202074             nan             nan -91340.97031865\n",
      " -62702.81368089 -62903.30270763 -83360.62019017 -83217.26052896\n",
      " -83354.23624228 -91406.50864449             nan             nan\n",
      "             nan -62641.09744295             nan             nan\n",
      " -62663.94608443 -91833.84082939 -83382.58591443             nan\n",
      " -91974.20525797             nan             nan             nan\n",
      " -84034.28219663 -91245.88473016             nan             nan\n",
      " -91732.78444108 -91548.86359417 -83254.6155601              nan\n",
      "             nan             nan             nan -92722.103426\n",
      " -92279.67452515             nan             nan -62671.85176395\n",
      "             nan             nan -83920.91244969             nan\n",
      "             nan -62726.33802134             nan             nan]\n",
      "  warnings.warn(\n"
     ]
    },
    {
     "data": {
      "text/plain": [
       "RandomizedSearchCV(cv=KFold(n_splits=5, random_state=42, shuffle=True),\n",
       "                   estimator=RandomForestRegressor(random_state=42), n_iter=100,\n",
       "                   param_distributions={'max_depth': [None,\n",
       "                                                      <scipy.stats._distn_infrastructure.rv_discrete_frozen object at 0x0000020160CA2C40>],\n",
       "                                        'max_features': [None, 'sqrt', 'log2'],\n",
       "                                        'min_impurity_decrease': [0.03891521268810775],\n",
       "                                        'min_samples_split': <scipy.stats._distn_infrastructure.rv_discrete_frozen object at 0x00000201606B2040>,\n",
       "                                        'min_weight_fraction_leaf': [0.08791328633566556],\n",
       "                                        'n_estimators': <scipy.stats._distn_infrastructure.rv_discrete_frozen object at 0x00000201606E7550>},\n",
       "                   random_state=42, scoring='neg_mean_absolute_error')"
      ]
     },
     "execution_count": 70,
     "metadata": {},
     "output_type": "execute_result"
    }
   ],
   "source": [
    "from scipy.stats import randint\n",
    "import random\n",
    "param_dist = {\n",
    "    \"n_estimators\": randint(50, 300),\n",
    "    'max_depth': [None,  randint(5,40)],\n",
    "    \"min_samples_split\":  randint(2, 10),\n",
    "    'min_weight_fraction_leaf': [random.uniform(0.0, 0.2)],\n",
    "    \"max_features\": [None,'sqrt', 'log2'],\n",
    "    'min_impurity_decrease': [random.uniform(0.0, 0.1)]\n",
    "}\n",
    "rf_regressor = RandomForestRegressor(random_state = 42)\n",
    "random_search = RandomizedSearchCV(rf_regressor, param_distributions=param_dist, n_iter=100, cv=kfold,scoring='neg_mean_absolute_error', random_state=42)\n",
    "\n",
    "# Realizar la búsqueda de hiperparámetros en el conjunto de entrenamiento\n",
    "random_search.fit(X_train_encoded_scaled, y_train)"
   ]
  },
  {
   "cell_type": "code",
   "execution_count": 71,
   "id": "087bf946",
   "metadata": {},
   "outputs": [
    {
     "name": "stdout",
     "output_type": "stream",
     "text": [
      "Mejores parámetros encontrados:\n",
      "{'max_depth': None, 'max_features': None, 'min_impurity_decrease': 0.03891521268810775, 'min_samples_split': 9, 'min_weight_fraction_leaf': 0.08791328633566556, 'n_estimators': 178}\n",
      "Mejor puntuación de validación cruzada (neg_mean_squared_error): 62596.93\n"
     ]
    }
   ],
   "source": [
    "print(\"Mejores parámetros encontrados:\")\n",
    "print(random_search.best_params_)\n",
    "print(\"Mejor puntuación de validación cruzada (neg_mean_squared_error): {:.2f}\".format(-random_search.best_score_))"
   ]
  },
  {
   "cell_type": "code",
   "execution_count": 72,
   "id": "43763d7d",
   "metadata": {},
   "outputs": [
    {
     "data": {
      "text/plain": [
       "58383.79781744973"
      ]
     },
     "execution_count": 72,
     "metadata": {},
     "output_type": "execute_result"
    }
   ],
   "source": [
    "calculate_error(random_search.best_estimator_, X_test_encoded_scaled, y_test)"
   ]
  },
  {
   "cell_type": "code",
   "execution_count": 73,
   "id": "ca717046",
   "metadata": {},
   "outputs": [
    {
     "data": {
      "text/plain": [
       "61540.40122797156"
      ]
     },
     "execution_count": 73,
     "metadata": {},
     "output_type": "execute_result"
    }
   ],
   "source": [
    "calculate_error(random_search.best_estimator_, X_train_encoded_scaled, y_train)"
   ]
  },
  {
   "cell_type": "code",
   "execution_count": 70,
   "id": "5bb74433",
   "metadata": {},
   "outputs": [
    {
     "data": {
      "text/plain": [
       "RandomForestRegressor(max_depth=8, max_features='sqrt', min_samples_split=8,\n",
       "                      n_estimators=18, random_state=42)"
      ]
     },
     "execution_count": 70,
     "metadata": {},
     "output_type": "execute_result"
    }
   ],
   "source": [
    "rf_random_model = RandomForestRegressor(max_depth = 8, max_features= 'sqrt',min_samples_leaf = 1, min_samples_split = 8,n_estimators = 18, random_state = 42)\n",
    "rf_random_model.fit(X_train_encoded_scaled, y_train)"
   ]
  },
  {
   "cell_type": "markdown",
   "id": "cf681b13",
   "metadata": {},
   "source": [
    "## Mejor modelo"
   ]
  },
  {
   "cell_type": "markdown",
   "id": "abc5818f",
   "metadata": {},
   "source": [
    "- Decission Tree Regressor:\n",
    "    - Primera aproximación con GridSearch:\n",
    "        - Error en test: 62844\n",
    "        - Error en train: 65417\n",
    "    - GridSearchCV con parámetros más ajustados:\n",
    "        - Error en test: 50692\n",
    "        - Error en train: 43791\n",
    "    - RandomizedSearchCV:\n",
    "        - Error en test: 62539\n",
    "        - Error en train: 65289\n",
    "- Random Forest:\n",
    "    - Primera aproximación con GridSearch:\n",
    "        - Error en test: 59232\n",
    "        - Error en train: 62234\n",
    "    - GridSearchCV con parámetros más ajustados:\n",
    "        - Error en test: 43913\n",
    "        - Error en train: 38764\n",
    "    - GridSearchCV muchos estimadores simples:\n",
    "        - Error en test: 62948\n",
    "        - Error en train: 60628\n",
    "    - GridSearchCV pocos estimadores complejos:\n",
    "        - Error en test: 39258\n",
    "        - Error en train: 16865\n",
    "    - RandomizedSearchCV:\n",
    "        - Error en test: 58383\n",
    "        - Error en train: 61540"
   ]
  },
  {
   "cell_type": "markdown",
   "id": "1bae20b4",
   "metadata": {},
   "source": [
    "Entre los modelos de Decission Tree Regressor podemos ver que el obtenido con GridSearchCV en el intento 2 da el menor error en test y no sobreajusta. Por último el obtenido con RandomizedSearchCV da un error bastante alto. Por lo que el obtenido con GridSearchCV es el mejor modelo de Decission Tree Regressor:"
   ]
  },
  {
   "cell_type": "code",
   "execution_count": 80,
   "id": "b3d88b31",
   "metadata": {},
   "outputs": [],
   "source": [
    "best_decission_tree_regressor = dtr_best_grid"
   ]
  },
  {
   "cell_type": "markdown",
   "id": "1f2b5a52",
   "metadata": {},
   "source": [
    "Entre los modelos de Random Forest podemos ver que el obtenido con GridSearchCV en el intento 2 ajustando los parámetros para crear árboles más complejos da un error razonable y no sobreajusta nada. El obtenido con GridSearchCV con la intención de crear un modelo con pocos estimadores pero con estimadores complejos nos da el mejor error en test pero a cambio de sobreajustar bastante. Por lo que hemos tomado la decisón de que el modelo obtenido con GridSearchCV en el intento 2 es el mejor modelo de Random Forest:"
   ]
  },
  {
   "cell_type": "code",
   "execution_count": 81,
   "id": "361a7938",
   "metadata": {},
   "outputs": [],
   "source": [
    "best_random_forest = rf_best_grid"
   ]
  },
  {
   "cell_type": "markdown",
   "id": "4da525f8",
   "metadata": {},
   "source": [
    "Y entre el mejor modelo de Decission Tree Regressor y el mejor modelo de Random Forest el mejor es el de Random Forest que da un error menor:"
   ]
  },
  {
   "cell_type": "code",
   "execution_count": 82,
   "id": "9489c1f2",
   "metadata": {},
   "outputs": [],
   "source": [
    "best_model = best_random_forest"
   ]
  },
  {
   "cell_type": "markdown",
   "id": "95cffb0d",
   "metadata": {},
   "source": [
    "## Estudio del error"
   ]
  },
  {
   "cell_type": "markdown",
   "id": "2238e065",
   "metadata": {},
   "source": [
    "Graficar las predicciones frente a los valores reales"
   ]
  },
  {
   "cell_type": "code",
   "execution_count": 83,
   "id": "ec26d0fc",
   "metadata": {},
   "outputs": [],
   "source": [
    "dt_predictions = best_decission_tree_regressor.predict(X_test_encoded_scaled)\n",
    "rf_predictions = best_random_forest.predict(X_test_encoded_scaled)"
   ]
  },
  {
   "cell_type": "code",
   "execution_count": 84,
   "id": "3981a86d",
   "metadata": {},
   "outputs": [],
   "source": [
    "dt_mae = mean_absolute_error(y_test, dt_predictions)\n",
    "rf_mae = mean_absolute_error(y_test, rf_predictions)"
   ]
  },
  {
   "cell_type": "code",
   "execution_count": 85,
   "id": "623c5e17",
   "metadata": {},
   "outputs": [
    {
     "data": {
      "image/png": "[encoded data removed]",
      "text/plain": [
       "<Figure size 1000x600 with 1 Axes>"
      ]
     },
     "metadata": {},
     "output_type": "display_data"
    },
    {
     "data": {
      "image/png": "[encoded data removed]",
      "text/plain": [
       "<Figure size 1000x600 with 1 Axes>"
      ]
     },
     "metadata": {},
     "output_type": "display_data"
    }
   ],
   "source": [
    "import matplotlib.pyplot as plt\n",
    "\n",
    "# Gráfico de dispersión para DecisionTreeRegressor\n",
    "plt.figure(figsize=(10, 6))\n",
    "plt.scatter(y_test, dt_predictions, color='blue', label='Predicciones DT')\n",
    "plt.scatter(y_test, rf_predictions, color='green', label='Predicciones RF')\n",
    "plt.plot([min(y_test), max(y_test)], [min(y_test), max(y_test)], color='red', linestyle='--')\n",
    "plt.title('Predicciones vs. Valores Reales (DecisionTreeRegressor)')\n",
    "plt.xlabel('Valores Reales')\n",
    "plt.ylabel('Predicciones')\n",
    "plt.legend()\n",
    "plt.grid(True)\n",
    "plt.show()\n",
    "\n",
    "# Gráfico de barras para comparar los errores\n",
    "labels = ['DecisionTreeRegressor', 'RandomForestRegressor']\n",
    "mae_scores = [dt_mae, rf_mae]\n",
    "\n",
    "x = np.arange(len(labels))\n",
    "width = 0.3\n",
    "\n",
    "fig, ax = plt.subplots(figsize=(10, 6))\n",
    "rects2 = ax.bar(x + width/2, mae_scores, width, label='MAE', color='salmon')\n",
    "\n",
    "ax.set_ylabel('Scores')\n",
    "ax.set_title('Scores por métrica y modelo')\n",
    "ax.set_xticks(x)\n",
    "ax.set_xticklabels(labels)\n",
    "ax.legend()\n",
    "\n",
    "plt.show()"
   ]
  },
  {
   "cell_type": "markdown",
   "id": "d915400b",
   "metadata": {},
   "source": [
    "Podemos ver que los puntos verdes, es decir, los valores predichos por el modelo de random forest se ajusta más a la linea de valores reales que los puntos azules, es decir, los valores de decission tree regressor."
   ]
  },
  {
   "cell_type": "markdown",
   "id": "75c44a5c",
   "metadata": {},
   "source": [
    "A continuación vemos la importancia que tiene cada variable en los dos modelos. Primero el de Random Forest:"
   ]
  },
  {
   "cell_type": "code",
   "execution_count": 86,
   "id": "6bd38c65",
   "metadata": {},
   "outputs": [
    {
     "data": {
      "image/png": "[encoded data removed]",
      "text/plain": [
       "<Figure size 1000x600 with 1 Axes>"
      ]
     },
     "metadata": {},
     "output_type": "display_data"
    }
   ],
   "source": [
    "importances = best_random_forest.feature_importances_\n",
    "# Obtener los nombres de las características\n",
    "feature_names = X_train_encoded_scaled.columns\n",
    "\n",
    "# Ordenar las importancias y los nombres de las características de manera descendente\n",
    "indices = np.argsort(importances)[::-1]\n",
    "importances_sorted = importances[indices]\n",
    "feature_names_sorted = feature_names[indices]\n",
    "importances_top10 = importances_sorted[:10]\n",
    "feature_names_top10 = feature_names_sorted[:10]\n",
    "\n",
    "# Crear el gráfico de barras\n",
    "plt.figure(figsize=(10, 6))\n",
    "plt.bar(range(len(importances_top10)), importances_top10, align='center')\n",
    "plt.xticks(range(len(importances_top10)), feature_names_top10, rotation=90)\n",
    "plt.xlabel('Características')\n",
    "plt.ylabel('Importancia')\n",
    "plt.title('Importancia de las características en Random Forest')\n",
    "plt.show()"
   ]
  },
  {
   "cell_type": "markdown",
   "id": "12b64471",
   "metadata": {},
   "source": [
    "Y a continuación en el modelo de Decission Tree Regressor:"
   ]
  },
  {
   "cell_type": "code",
   "execution_count": 87,
   "id": "e3c5dce0",
   "metadata": {},
   "outputs": [
    {
     "data": {
      "image/png": "[encoded data removed]",
      "text/plain": [
       "<Figure size 1000x600 with 1 Axes>"
      ]
     },
     "metadata": {},
     "output_type": "display_data"
    }
   ],
   "source": [
    "importances = best_decission_tree_regressor.feature_importances_\n",
    "# Obtener los nombres de las características\n",
    "feature_names = X_train_encoded_scaled.columns\n",
    "\n",
    "# Ordenar las importancias y los nombres de las características de manera descendente\n",
    "indices = np.argsort(importances)[::-1]\n",
    "importances_sorted = importances[indices]\n",
    "feature_names_sorted = feature_names[indices]\n",
    "importances_top10 = importances_sorted[:10]\n",
    "feature_names_top10 = feature_names_sorted[:10]\n",
    "\n",
    "# Crear el gráfico de barras\n",
    "plt.figure(figsize=(10, 6))\n",
    "plt.bar(range(len(importances_top10)), importances_top10, align='center')\n",
    "plt.xticks(range(len(importances_top10)), feature_names_top10, rotation=90)\n",
    "plt.xlabel('Características')\n",
    "plt.ylabel('Importancia')\n",
    "plt.title('Importancia de las características en Random Forest')\n",
    "plt.show()"
   ]
  },
  {
   "cell_type": "code",
   "execution_count": null,
   "id": "df07e5ce",
   "metadata": {},
   "outputs": [],
   "source": []
  }
 ],
 "metadata": {
  "kernelspec": {
   "display_name": "Python 3 (ipykernel)",
   "language": "python",
   "name": "python3"
  },
  "language_info": {
   "codemirror_mode": {
    "name": "ipython",
    "version": 3
   },
   "file_extension": ".py",
   "mimetype": "text/x-python",
   "name": "python",
   "nbconvert_exporter": "python",
   "pygments_lexer": "ipython3",
   "version": "3.9.13"
  }
 },
 "nbformat": 4,
 "nbformat_minor": 5
}
